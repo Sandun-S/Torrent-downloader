{
 "cells": [
  {
   "cell_type": "markdown",
   "id": "10486620",
   "metadata": {},
   "source": [
    "### Torrent to Google Drive Downloader - Seedr Style"
   ]
  },
  {
   "cell_type": "markdown",
   "id": "6d713c27",
   "metadata": {},
   "source": [
    "#### ==== USER CONFIGURATION ====\n",
    "##### Examples:\n",
    " - .torrent file URL: \"https://yts.mx/torrent/download/xxxxxxxxxxxxxxxxxxxxxxxxxxxxxxxxxxxxxxx\"\n",
    " - Magnet link: \"magnet:?xt=urn:btih:xxxxxxxxxxxxxxxxxxxxxxxxxxxxxxxxxxxxxxx\""
   ]
  },
  {
   "cell_type": "code",
   "execution_count": null,
   "id": "a318334d",
   "metadata": {
    "vscode": {
     "languageId": "plaintext"
    }
   },
   "outputs": [],
   "source": [
    "TORRENT_LINK = \"https://yts.mx/torrent/download/A87D36A8EFD2924E9FB607722DE5B453C625884A\""
   ]
  },
  {
   "cell_type": "code",
   "execution_count": null,
   "id": "19ad004d",
   "metadata": {
    "vscode": {
     "languageId": "plaintext"
    }
   },
   "outputs": [],
   "source": [
    "while True:\n",
    "    TORRENT_LINK = input(\"Enter Torrent/Magnet Link Or Type Exit: \")\n",
    "    if magnet_link.lower() == \"exit\":\n",
    "        break"
   ]
  },
  {
   "cell_type": "code",
   "execution_count": null,
   "id": "1f7884be",
   "metadata": {
    "vscode": {
     "languageId": "plaintext"
    }
   },
   "outputs": [],
   "source": [
    "# ==== INSTALL DEPENDENCIES ====\n",
    "!apt install -y python3-libtorrent\n",
    "!pip install ipywidgets requests\n",
    "\n",
    "import libtorrent as lt\n",
    "import time\n",
    "import os\n",
    "import requests\n",
    "from IPython.display import display\n",
    "import ipywidgets as widgets\n",
    "from google.colab import drive\n",
    "\n",
    "# ==== MOUNT GOOGLE DRIVE ====\n",
    "drive.mount(\"/content/drive\")\n",
    "BASE_PATH = \"/content/drive/My Drive/Torrent\"\n",
    "os.makedirs(BASE_PATH, exist_ok=True)\n",
    "\n",
    "# ==== INITIALIZE LIBTORRENT SESSION ====\n",
    "ses = lt.session()\n",
    "ses.listen_on(6881, 6891)\n",
    "ses.start_dht()\n",
    "ses.start_lsd()\n",
    "ses.start_upnp()\n",
    "ses.start_natpmp()\n",
    "\n",
    "downloads = []\n",
    "\n",
    "# ==== FUNCTION TO ADD TORRENT ====\n",
    "def add_torrent_from_file(file_path):\n",
    "    info = lt.torrent_info(file_path)\n",
    "    save_path = f\"{BASE_PATH}/{info.name()}\"\n",
    "    os.makedirs(save_path, exist_ok=True)\n",
    "    params = {\"save_path\": save_path, \"ti\": info}\n",
    "    downloads.append(ses.add_torrent(params))\n",
    "    print(f\"📥 Added torrent: {info.name()} -> {save_path}\")\n",
    "\n",
    "def add_torrent_from_url(torrent_url):\n",
    "    local_file = \"/content/temp.torrent\"\n",
    "    r = requests.get(torrent_url, allow_redirects=True)\n",
    "    with open(local_file, \"wb\") as f:\n",
    "        f.write(r.content)\n",
    "    add_torrent_from_file(local_file)\n",
    "\n",
    "def add_torrent_from_magnet(magnet_link):\n",
    "    params = {\"save_path\": BASE_PATH}\n",
    "    h = lt.add_magnet_uri(ses, magnet_link, params)\n",
    "    downloads.append(h)\n",
    "    print(f\"🔗 Added magnet link\")\n",
    "\n",
    "# ==== DETECT LINK TYPE ====\n",
    "if TORRENT_LINK.lower().startswith(\"magnet:\"):\n",
    "    add_torrent_from_magnet(TORRENT_LINK)\n",
    "elif TORRENT_LINK.lower().endswith(\".torrent\") or \"yts.mx/torrent/download\" in TORRENT_LINK:\n",
    "    add_torrent_from_url(TORRENT_LINK)\n",
    "else:\n",
    "    raise ValueError(\"❌ Invalid TORRENT_LINK. Must be a magnet link or direct .torrent file URL.\")\n",
    "\n",
    "# ==== PROGRESS BAR WITH ETA ====\n",
    "state_str = [\n",
    "    \"queued\", \"checking\", \"downloading metadata\",\n",
    "    \"downloading\", \"finished\", \"seeding\",\n",
    "    \"allocating\", \"checking fastresume\"\n",
    "]\n",
    "\n",
    "layout = widgets.Layout(width=\"auto\")\n",
    "style = {\"description_width\": \"initial\"}\n",
    "download_bars = [\n",
    "    widgets.FloatSlider(step=0.01, disabled=True, layout=layout, style=style)\n",
    "    for _ in downloads\n",
    "]\n",
    "display(*download_bars)\n",
    "\n",
    "while downloads:\n",
    "    next_shift = 0\n",
    "    for index, download in enumerate(downloads[:]):\n",
    "        bar = download_bars[index + next_shift]\n",
    "        if not download.is_seed():\n",
    "            s = download.status()\n",
    "            eta = (s.total_wanted - s.total_done) / s.download_rate if s.download_rate > 0 else 0\n",
    "            bar.description = f\"{download.name()} | {s.download_rate/1000:.1f} kB/s | {s.progress*100:.1f}% | ETA: {eta/60:.1f} min | {state_str[s.state]}\"\n",
    "            bar.value = s.progress * 100\n",
    "        else:\n",
    "            next_shift -= 1\n",
    "            ses.remove_torrent(download)\n",
    "            downloads.remove(download)\n",
    "            bar.close()\n",
    "            download_bars.remove(bar)\n",
    "            print(f\"✅ {download.name()} complete\")\n",
    "    time.sleep(1)\n",
    "\n",
    "# ==== AUTO-UNMOUNT GOOGLE DRIVE ====\n",
    "drive.flush_and_unmount()\n",
    "print(\"🎉 All torrents completed and Google Drive unmounted.\")"
   ]
  }
 ],
 "metadata": {
  "language_info": {
   "name": "python"
  }
 },
 "nbformat": 4,
 "nbformat_minor": 5
}
