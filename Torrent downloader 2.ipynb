{
<<<<<<< HEAD
 "cells": [
  {
   "cell_type": "markdown",
   "id": "10486620",
   "metadata": {},
   "source": [
    "### Torrent to Google Drive Downloader - Seedr Style"
   ]
  },
  {
   "cell_type": "markdown",
   "id": "78183e43",
   "metadata": {},
   "source": [
    "#### Install Libtorrent (stable)"
   ]
  },
  {
   "cell_type": "code",
   "execution_count": null,
   "id": "8638e9be",
   "metadata": {
    "vscode": {
     "languageId": "plaintext"
    }
   },
   "outputs": [],
   "source": [
    "# Install Libtorrent (stable)\n",
    "!python -m pip install --upgrade pip setuptools wheel\n",
    "!python -m pip install lbry-libtorrent\n",
    "!apt install python3-libtorrent"
   ]
  },
  {
   "cell_type": "markdown",
   "id": "6d713c27",
   "metadata": {},
   "source": [
    "#### Input Torrent/Magnet Link\n",
    " - .torrent file URL: \"https://yts.mx/torrent/download/xxxxxxxxxxxxxxxxxxxxxxxxxxxxxxxxxxxxxxx\"\n",
    " - Magnet link: \"magnet:?xt=urn:btih:xxxxxxxxxxxxxxxxxxxxxxxxxxxxxxxxxxxxxxx\""
   ]
  },
  {
   "cell_type": "code",
   "execution_count": null,
   "id": "fd9824cc",
   "metadata": {
    "vscode": {
     "languageId": "plaintext"
    }
   },
   "outputs": [],
   "source": [
    "TORRENT_LINK = input(\"📥 Enter Torrent/Magnet Link: \").strip()"
   ]
  },
  {
   "cell_type": "markdown",
   "id": "f9efddf0",
   "metadata": {},
   "source": [
    "#### Start Download Torrent"
   ]
  },
  {
   "cell_type": "code",
   "execution_count": null,
   "id": "0aefec37",
   "metadata": {
    "vscode": {
     "languageId": "plaintext"
    }
   },
   "outputs": [],
   "source": [
    "import libtorrent as lt\n",
    "import time\n",
    "import requests\n",
    "import os\n",
    "from IPython.display import display\n",
    "import ipywidgets as widgets\n",
    "from google.colab import drive\n",
    "\n",
    "# === Mount Google Drive\n",
    "drive.mount(\"/content/drive\")\n",
    "\n",
    "# === Initialize Torrent Session (faster peer discovery)\n",
    "ses = lt.session()\n",
    "ses.listen_on(6881, 6891)\n",
    "ses.start_dht()\n",
    "ses.start_lsd()\n",
    "ses.start_upnp()\n",
    "ses.start_natpmp()\n",
    "downloads = []\n",
    "\n",
    "params = {}\n",
    "save_path_root = \"/content/drive/My Drive/Torrent\"\n",
    "\n",
    "# Check if it's a .torrent file URL (like YTS)\n",
    "if TORRENT_LINK.endswith(\".torrent\") or \"torrent/download\" in TORRENT_LINK:\n",
    "    print(\"🔗 Detected .torrent file link, downloading...\")\n",
    "    r = requests.get(TORRENT_LINK)\n",
    "    torrent_file_path = \"/content/temp.torrent\"\n",
    "    with open(torrent_file_path, \"wb\") as f:\n",
    "        f.write(r.content)\n",
    "\n",
    "    ti = lt.torrent_info(torrent_file_path)\n",
    "    folder_name = ti.name()\n",
    "    save_path = f\"{save_path_root}/{folder_name}\"\n",
    "    os.makedirs(save_path, exist_ok=True)\n",
    "\n",
    "    params = {\"save_path\": save_path, \"ti\": ti}\n",
    "    downloads.append(ses.add_torrent(params))\n",
    "\n",
    "# Otherwise, treat it as a magnet link\n",
    "else:\n",
    "    print(\"🧲 Detected magnet link...\")\n",
    "    folder_name = \"Magnet_Download\"\n",
    "    save_path = f\"{save_path_root}/{folder_name}\"\n",
    "    os.makedirs(save_path, exist_ok=True)\n",
    "\n",
    "    params = {\"save_path\": save_path}\n",
    "    downloads.append(lt.add_magnet_uri(ses, TORRENT_LINK, params))\n",
    "\n",
    "# === Progress Bar Setup\n",
    "state_str = [\n",
    "    \"queued\",\n",
    "    \"checking\",\n",
    "    \"downloading metadata\",\n",
    "    \"downloading\",\n",
    "    \"finished\",\n",
    "    \"seeding\",\n",
    "    \"allocating\",\n",
    "    \"checking fastresume\",\n",
    "]\n",
    "\n",
    "layout = widgets.Layout(width=\"auto\")\n",
    "style = {\"description_width\": \"initial\"}\n",
    "download_bars = [\n",
    "    widgets.FloatSlider(step=0.01, disabled=True, layout=layout, style=style)\n",
    "    for _ in downloads\n",
    "]\n",
    "display(*download_bars)\n",
    "\n",
    "# === Download Loop\n",
    "while downloads:\n",
    "    next_shift = 0\n",
    "    for index, download in enumerate(downloads[:]):\n",
    "        bar = download_bars[index + next_shift]\n",
    "        if not download.is_seed():\n",
    "            s = download.status()\n",
    "            eta = (\n",
    "                (s.total_wanted - s.total_done) / s.download_rate\n",
    "                if s.download_rate > 0\n",
    "                else 0\n",
    "            )\n",
    "            eta_str = f\"{eta/60:.1f} min\" if eta > 0 else \"∞\"\n",
    "\n",
    "            bar.description = f\"{download.name()} | {s.download_rate/1000:.1f} kB/s | {s.progress*100:.1f}% | ETA: {eta_str} | {state_str[s.state]}\"\n",
    "            bar.value = s.progress * 100\n",
    "        else:\n",
    "            next_shift -= 1\n",
    "            ses.remove_torrent(download)\n",
    "            downloads.remove(download)\n",
    "            bar.close()\n",
    "            download_bars.remove(bar)\n",
    "            print(f\"✅ {download.name()} complete!\")\n",
    "\n",
    "    time.sleep(1)\n",
    "\n",
    "# === Auto Unmount Drive\n",
    "print(\"📤 All downloads complete. Unmounting Google Drive...\")\n",
    "drive.flush_and_unmount()\n",
    "print(\"✅ Google Drive unmounted!\")"
   ]
  }
 ],
 "metadata": {
  "language_info": {
   "name": "python"
  }
 },
 "nbformat": 4,
 "nbformat_minor": 5
}
=======
  "cells": [
    {
      "cell_type": "markdown",
      "id": "10486620",
      "metadata": {
        "id": "10486620"
      },
      "source": [
        "### Torrent to Google Drive Downloader - Seedr Style"
      ]
    },
    {
      "cell_type": "markdown",
      "id": "6d713c27",
      "metadata": {
        "id": "6d713c27"
      },
      "source": [
        "#### ==== USER CONFIGURATION ====\n",
        "##### Examples:\n",
        " - .torrent file URL: \"https://yts.mx/torrent/download/xxxxxxxxxxxxxxxxxxxxxxxxxxxxxxxxxxxxxxx\"\n",
        " - Magnet link: \"magnet:?xt=urn:btih:xxxxxxxxxxxxxxxxxxxxxxxxxxxxxxxxxxxxxxx\""
      ]
    },
    {
      "cell_type": "code",
      "execution_count": null,
      "id": "a318334d",
      "metadata": {
        "vscode": {
          "languageId": "plaintext"
        },
        "id": "a318334d"
      },
      "outputs": [],
      "source": [
        "TORRENT_LINK = \"https://yts.mx/torrent/download/A87D36A8EFD2924E9FB607722DE5B453C625884A\""
      ]
    },
    {
      "cell_type": "code",
      "execution_count": null,
      "id": "19ad004d",
      "metadata": {
        "vscode": {
          "languageId": "plaintext"
        },
        "id": "19ad004d"
      },
      "outputs": [],
      "source": [
        "while True:\n",
        "    TORRENT_LINK = input(\"Enter Torrent/Magnet Link Or Type Exit: \")\n",
        "    if magnet_link.lower() == \"exit\":\n",
        "        break"
      ]
    },
    {
      "cell_type": "code",
      "source": [
        "# ==== INSTALL DEPENDENCIES ====\n",
        "!apt-get install -y python3-libtorrent\n",
        "!pip install -q ipywidgets requests\n",
        "\n",
        "# ==== MOUNT GOOGLE DRIVE ====\n",
        "from google.colab import drive\n",
        "drive.mount(\"/content/drive\")\n",
        "\n",
        "# ==== AUTO-RESTART RUNTIME ====\n",
        "import os\n",
        "os.kill(os.getpid(), 9)"
      ],
      "metadata": {
        "collapsed": true,
        "id": "YbE_L4WgjoBa"
      },
      "id": "YbE_L4WgjoBa",
      "execution_count": null,
      "outputs": []
    },
    {
      "cell_type": "code",
      "execution_count": 2,
      "id": "1f7884be",
      "metadata": {
        "vscode": {
          "languageId": "plaintext"
        },
        "id": "1f7884be",
        "outputId": "3916bbb7-10f5-4d79-e855-3d43a582fb84",
        "colab": {
          "base_uri": "https://localhost:8080/",
          "height": 383
        }
      },
      "outputs": [
        {
          "output_type": "error",
          "ename": "ModuleNotFoundError",
          "evalue": "No module named 'libtorrent'",
          "traceback": [
            "\u001b[0;31m---------------------------------------------------------------------------\u001b[0m",
            "\u001b[0;31mModuleNotFoundError\u001b[0m                       Traceback (most recent call last)",
            "\u001b[0;32m/tmp/ipython-input-2489433300.py\u001b[0m in \u001b[0;36m<cell line: 0>\u001b[0;34m()\u001b[0m\n\u001b[0;32m----> 1\u001b[0;31m \u001b[0;32mimport\u001b[0m \u001b[0mlibtorrent\u001b[0m \u001b[0;32mas\u001b[0m \u001b[0mlt\u001b[0m\u001b[0;34m\u001b[0m\u001b[0;34m\u001b[0m\u001b[0m\n\u001b[0m\u001b[1;32m      2\u001b[0m \u001b[0;32mimport\u001b[0m \u001b[0mtime\u001b[0m\u001b[0;34m\u001b[0m\u001b[0;34m\u001b[0m\u001b[0m\n\u001b[1;32m      3\u001b[0m \u001b[0;32mimport\u001b[0m \u001b[0mos\u001b[0m\u001b[0;34m\u001b[0m\u001b[0;34m\u001b[0m\u001b[0m\n\u001b[1;32m      4\u001b[0m \u001b[0;32mimport\u001b[0m \u001b[0mrequests\u001b[0m\u001b[0;34m\u001b[0m\u001b[0;34m\u001b[0m\u001b[0m\n\u001b[1;32m      5\u001b[0m \u001b[0;32mfrom\u001b[0m \u001b[0mIPython\u001b[0m\u001b[0;34m.\u001b[0m\u001b[0mdisplay\u001b[0m \u001b[0;32mimport\u001b[0m \u001b[0mdisplay\u001b[0m\u001b[0;34m\u001b[0m\u001b[0;34m\u001b[0m\u001b[0m\n",
            "\u001b[0;31mModuleNotFoundError\u001b[0m: No module named 'libtorrent'",
            "",
            "\u001b[0;31m---------------------------------------------------------------------------\u001b[0;32m\nNOTE: If your import is failing due to a missing package, you can\nmanually install dependencies using either !pip or !apt.\n\nTo view examples of installing some common dependencies, click the\n\"Open Examples\" button below.\n\u001b[0;31m---------------------------------------------------------------------------\u001b[0m\n"
          ],
          "errorDetails": {
            "actions": [
              {
                "action": "open_url",
                "actionText": "Open Examples",
                "url": "/notebooks/snippets/importing_libraries.ipynb"
              }
            ]
          }
        }
      ],
      "source": [
        "import libtorrent as lt\n",
        "import time, os, requests\n",
        "import ipywidgets as widgets\n",
        "from IPython.display import display\n",
        "\n",
        "# ==== SETTINGS ====\n",
        "BASE_PATH = \"/content/drive/My Drive/Torrent\"\n",
        "os.makedirs(BASE_PATH, exist_ok=True)\n",
        "\n",
        "# ==== INPUT LINK ====\n",
        "TORRENT_LINK = input(\"📥 Enter Torrent/Magnet Link: \").strip()\n",
        "\n",
        "# ==== INIT LIBTORRENT ====\n",
        "ses = lt.session()\n",
        "ses.listen_on(6881, 6891)\n",
        "ses.start_dht()\n",
        "\n",
        "downloads = []\n",
        "\n",
        "def add_torrent_from_file(file_path):\n",
        "    info = lt.torrent_info(file_path)\n",
        "    save_path = f\"{BASE_PATH}/{info.name()}\"\n",
        "    os.makedirs(save_path, exist_ok=True)\n",
        "    params = {\"save_path\": save_path, \"ti\": info}\n",
        "    downloads.append(ses.add_torrent(params))\n",
        "    print(f\"Added: {info.name()}\")\n",
        "\n",
        "def add_torrent_from_url(url):\n",
        "    local_file = \"/content/temp.torrent\"\n",
        "    r = requests.get(url, allow_redirects=True)\n",
        "    open(local_file, \"wb\").write(r.content)\n",
        "    add_torrent_from_file(local_file)\n",
        "\n",
        "def add_torrent_from_magnet(link):\n",
        "    params = {\"save_path\": BASE_PATH}\n",
        "    h = lt.add_magnet_uri(ses, link, params)\n",
        "    downloads.append(h)\n",
        "    print(\"Magnet link added\")\n",
        "\n",
        "# ==== DETECT TYPE ====\n",
        "if TORRENT_LINK.startswith(\"magnet:\"):\n",
        "    add_torrent_from_magnet(TORRENT_LINK)\n",
        "elif TORRENT_LINK.endswith(\".torrent\") or \"yts.mx/torrent/download\" in TORRENT_LINK:\n",
        "    add_torrent_from_url(TORRENT_LINK)\n",
        "else:\n",
        "    raise ValueError(\"❌ Invalid link.\")\n",
        "\n",
        "# ==== PROGRESS BARS ====\n",
        "state_str = [\n",
        "    \"queued\", \"checking\", \"downloading metadata\",\n",
        "    \"downloading\", \"finished\", \"seeding\",\n",
        "    \"allocating\", \"checking fastresume\"\n",
        "]\n",
        "bars = [widgets.FloatSlider(step=0.01, disabled=True, layout=widgets.Layout(width=\"auto\"))\n",
        "        for _ in downloads]\n",
        "display(*bars)\n",
        "\n",
        "while downloads:\n",
        "    shift = 0\n",
        "    for idx, dl in enumerate(downloads[:]):\n",
        "        bar = bars[idx + shift]\n",
        "        if not dl.is_seed():\n",
        "            s = dl.status()\n",
        "            eta = (s.total_wanted - s.total_done) / s.download_rate if s.download_rate > 0 else 0\n",
        "            bar.description = f\"{dl.name()} | {s.download_rate/1000:.1f} kB/s | {s.progress*100:.1f}% | ETA: {eta/60:.1f} min | {state_str[s.state]}\"\n",
        "            bar.value = s.progress * 100\n",
        "        else:\n",
        "            shift -= 1\n",
        "            ses.remove_torrent(dl)\n",
        "            downloads.remove(dl)\n",
        "            bar.close()\n",
        "            bars.remove(bar)\n",
        "            print(f\"✅ {dl.name()} complete\")\n",
        "    time.sleep(1)\n",
        "\n",
        "# ==== UNMOUNT DRIVE ====\n",
        "drive.flush_and_unmount()\n",
        "print(\"🎉 All torrents done. Drive unmounted.\")\n"
      ]
    }
  ],
  "metadata": {
    "language_info": {
      "name": "python"
    },
    "colab": {
      "provenance": []
    },
    "kernelspec": {
      "name": "python3",
      "display_name": "Python 3"
    }
  },
  "nbformat": 4,
  "nbformat_minor": 5
}
>>>>>>> 8bcbc1450e65f54ebf3ef67ad8a7341b6932fd2a
