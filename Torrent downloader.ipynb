{
 "cells": [
  {
   "cell_type": "markdown",
   "id": "1d495b32",
   "metadata": {},
   "source": [
    "#### Install libtorrent"
   ]
  },
  {
   "cell_type": "code",
   "execution_count": null,
   "id": "439f1fb5",
   "metadata": {
    "vscode": {
     "languageId": "plaintext"
    }
   },
   "outputs": [],
   "source": [
    "\n",
    "!python -m pip install --upgrade pip setuptools wheel\n",
    "!python -m pip install lbry-libtorrent\n",
    "!apt install python3-libtorrent"
   ]
  },
  {
   "cell_type": "markdown",
   "id": "7c9c8a35",
   "metadata": {},
   "source": [
    "#### Initialize Session"
   ]
  },
  {
   "cell_type": "code",
   "execution_count": null,
   "id": "2914cbd8",
   "metadata": {
    "vscode": {
     "languageId": "plaintext"
    }
   },
   "outputs": [],
   "source": [
    "import libtorrent as lt\n",
    "import time\n",
    "import requests\n",
    "import os\n",
    "from IPython.display import display\n",
    "import ipywidgets as widgets\n",
    "from google.colab import drive\n",
    "\n",
    "ses = lt.session()\n",
    "ses.listen_on(6881, 6891)\n",
    "downloads = []\n",
    "\n",
    "# === Initialize Torrent Session (faster peer discovery)\n",
    "ses = lt.session()\n",
    "ses.listen_on(6881, 6891)\n",
    "ses.start_dht()\n",
    "ses.start_lsd()\n",
    "ses.start_upnp()\n",
    "ses.start_natpmp()\n",
    "downloads = []\n",
    "\n",
    "# === Mount Google Drive\n",
    "drive.mount(\"/content/drive\")"
   ]
  },
  {
   "cell_type": "markdown",
   "id": "870d3e38",
   "metadata": {},
   "source": [
    "#### Input Torrent/Magnet Link"
   ]
  },
  {
   "cell_type": "code",
   "execution_count": null,
   "id": "51fa8938",
   "metadata": {
    "vscode": {
     "languageId": "plaintext"
    }
   },
   "outputs": [],
   "source": [
    "# === Input Torrent/Magnet Link\n",
    "TORRENT_LINK = input(\"📥 Enter Torrent/Magnet Link: \").strip()\n",
    "\n",
    "params = {}\n",
    "save_path_root = \"/content/drive/My Drive/Torrent\"\n",
    "\n",
    "# Check if it's a .torrent file URL (like YTS)\n",
    "if TORRENT_LINK.endswith(\".torrent\") or \"torrent/download\" in TORRENT_LINK:\n",
    "    print(\"🔗 Detected .torrent file link, downloading...\")\n",
    "    r = requests.get(TORRENT_LINK)\n",
    "    torrent_file_path = \"/content/temp.torrent\"\n",
    "    with open(torrent_file_path, \"wb\") as f:\n",
    "        f.write(r.content)\n",
    "\n",
    "    ti = lt.torrent_info(torrent_file_path)\n",
    "    folder_name = ti.name()\n",
    "    save_path = f\"{save_path_root}\" #/{folder_name}\n",
    "    os.makedirs(save_path, exist_ok=True)\n",
    "\n",
    "    params = {\"save_path\": save_path, \"ti\": ti}\n",
    "    downloads.append(ses.add_torrent(params))\n",
    "\n",
    "# Otherwise, treat it as a magnet link\n",
    "else:\n",
    "    print(\"🧲 Detected magnet link...\")\n",
    "    folder_name = \"Magnet_Download\"\n",
    "    save_path = f\"{save_path_root}\"  #/{folder_name}\n",
    "    os.makedirs(save_path, exist_ok=True)\n",
    "\n",
    "    params = {\"save_path\": save_path}\n",
    "    downloads.append(lt.add_magnet_uri(ses, TORRENT_LINK, params))\n",
    "\n",
    "# === Progress Bar Setup\n",
    "state_str = [\n",
    "    \"queued\",\n",
    "    \"checking\",\n",
    "    \"downloading metadata\",\n",
    "    \"downloading\",\n",
    "    \"finished\",\n",
    "    \"seeding\",\n",
    "    \"allocating\",\n",
    "    \"checking fastresume\",\n",
    "]\n",
    "\n",
    "layout = widgets.Layout(width=\"auto\")\n",
    "style = {\"description_width\": \"initial\"}\n",
    "download_bars = [\n",
    "    widgets.FloatSlider(step=0.01, disabled=True, layout=layout, style=style)\n",
    "    for _ in downloads\n",
    "]\n",
    "display(*download_bars)\n",
    "\n",
    "# === Download Loop\n",
    "while downloads:\n",
    "    next_shift = 0\n",
    "    for index, download in enumerate(downloads[:]):\n",
    "        bar = download_bars[index + next_shift]\n",
    "        if not download.is_seed():\n",
    "            s = download.status()\n",
    "            eta = (\n",
    "                (s.total_wanted - s.total_done) / s.download_rate\n",
    "                if s.download_rate > 0\n",
    "                else 0\n",
    "            )\n",
    "            eta_str = f\"{eta/60:.1f} min\" if eta > 0 else \"∞\"\n",
    "\n",
    "            bar.description = f\"{download.name()} | {s.download_rate/1000:.1f} kB/s | {s.progress*100:.1f}% | ETA: {eta_str} | {state_str[s.state]}\"\n",
    "            bar.value = s.progress * 100\n",
    "        else:\n",
    "            next_shift -= 1\n",
    "            ses.remove_torrent(download)\n",
    "            downloads.remove(download)\n",
    "            bar.close()\n",
    "            download_bars.remove(bar)\n",
    "            print(f\"✅ {download.name()} complete!\")\n",
    "\n",
    "    time.sleep(1)"
   ]
  },
  {
   "cell_type": "markdown",
   "id": "496be91f",
   "metadata": {},
   "source": [
    "#### Auto Unmount Drive"
   ]
  },
  {
   "cell_type": "code",
   "execution_count": null,
   "id": "f412dd39",
   "metadata": {
    "vscode": {
     "languageId": "plaintext"
    }
   },
   "outputs": [],
   "source": [
    "drive.flush_and_unmount()\n",
    "print(\"✅ Google Drive unmounted!\")"
   ]
  }
 ],
 "metadata": {
  "language_info": {
   "name": "python"
  }
 },
 "nbformat": 4,
 "nbformat_minor": 5
}
