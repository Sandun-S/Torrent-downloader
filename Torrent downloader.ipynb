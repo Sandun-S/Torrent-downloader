{
 "cells": [
  {
   "cell_type": "markdown",
   "id": "1d495b32",
   "metadata": {},
   "source": [
    "#### Install Required Packages\n",
    "- The script installs and sets up the `libtorrent` library and its dependencies automatically.  \n",
    "- Make sure to run the install cells first before using the torrent downloader"
   ]
  },
  {
   "cell_type": "code",
   "execution_count": null,
   "id": "439f1fb5",
   "metadata": {
    "vscode": {
     "languageId": "plaintext"
    }
   },
   "outputs": [],
   "source": [
    "!python -m pip install --upgrade pip setuptools wheel\n",
    "!python -m pip install lbry-libtorrent\n",
    "!apt install python3-libtorrent"
   ]
  },
  {
   "cell_type": "markdown",
   "id": "7c9c8a35",
   "metadata": {},
   "source": [
    "#### Initialize Session & Mount Google Drive / (If it fail, run again.)\n",
    "- The script mounts your Google Drive to save downloaded files directly there.  \n",
    "- You will be prompted to authorize access, Allow it."
   ]
  },
  {
   "cell_type": "code",
   "execution_count": null,
   "id": "2914cbd8",
   "metadata": {
    "vscode": {
     "languageId": "plaintext"
    }
   },
   "outputs": [],
   "source": [
    "import libtorrent as lt\n",
    "import time\n",
    "import requests\n",
    "import os\n",
    "from IPython.display import display\n",
    "import ipywidgets as widgets\n",
    "from google.colab import drive\n",
    "\n",
    "ses = lt.session()\n",
    "ses.listen_on(6881, 6891)\n",
    "downloads = []\n",
    "\n",
    "# === Initialize Torrent Session (faster peer discovery)\n",
    "ses = lt.session()\n",
    "ses.listen_on(6881, 6891)\n",
    "ses.start_dht()\n",
    "ses.start_lsd()\n",
    "ses.start_upnp()\n",
    "ses.start_natpmp()\n",
    "downloads = []\n",
    "\n",
    "# === Mount Google Drive\n",
    "drive.mount(\"/content/drive\")"
   ]
  },
  {
   "cell_type": "markdown",
   "id": "870d3e38",
   "metadata": {},
   "source": [
    "#### Input Torrent or Magnet Link\n",
    "- You can paste either a direct `.torrent` file URL or a magnet link when asked.  \n",
    "- For `.torrent` links, the script downloads the file first; magnet links start downloading directly.\n",
    "- Downloads will be saved in your Google Drive under:  `/My Drive/Torrent`  \n",
    "- You can change this path in the script if needed.\n",
    "\n",
    "- The script shows a progress bar for each active download with speed, progress %, ETA, and status.\n"
   ]
  },
  {
   "cell_type": "code",
   "execution_count": null,
   "id": "51fa8938",
   "metadata": {
    "vscode": {
     "languageId": "plaintext"
    }
   },
   "outputs": [],
   "source": [
    "# === Input Torrent/Magnet Link\n",
    "TORRENT_LINK = input(\"📥 Enter Torrent/Magnet Link: \").strip()\n",
    "\n",
    "params = {}\n",
    "save_path_root = \"/content/drive/My Drive/Torrent\"\n",
    "\n",
    "# Check if it's a .torrent file URL (like YTS)\n",
    "if TORRENT_LINK.endswith(\".torrent\") or \"torrent/download\" in TORRENT_LINK:\n",
    "    print(\"🔗 Detected .torrent file link, downloading...\")\n",
    "    r = requests.get(TORRENT_LINK)\n",
    "    torrent_file_path = \"/content/temp.torrent\"\n",
    "    with open(torrent_file_path, \"wb\") as f:\n",
    "        f.write(r.content)\n",
    "\n",
    "    ti = lt.torrent_info(torrent_file_path)\n",
    "    folder_name = ti.name()\n",
    "    save_path = f\"{save_path_root}\" #/{folder_name}\n",
    "    os.makedirs(save_path, exist_ok=True)\n",
    "\n",
    "    params = {\"save_path\": save_path, \"ti\": ti}\n",
    "    downloads.append(ses.add_torrent(params))\n",
    "\n",
    "# Otherwise, treat it as a magnet link\n",
    "else:\n",
    "    print(\"🧲 Detected magnet link...\")\n",
    "    folder_name = \"Magnet_Download\"\n",
    "    save_path = f\"{save_path_root}\"  #/{folder_name}\n",
    "    os.makedirs(save_path, exist_ok=True)\n",
    "\n",
    "    params = {\"save_path\": save_path}\n",
    "    downloads.append(lt.add_magnet_uri(ses, TORRENT_LINK, params))\n",
    "\n",
    "# === Progress Bar Setup\n",
    "state_str = [\n",
    "    \"queued\",\n",
    "    \"checking\",\n",
    "    \"downloading metadata\",\n",
    "    \"downloading\",\n",
    "    \"finished\",\n",
    "    \"seeding\",\n",
    "    \"allocating\",\n",
    "    \"checking fastresume\",\n",
    "]\n",
    "\n",
    "layout = widgets.Layout(width=\"auto\")\n",
    "style = {\"description_width\": \"initial\"}\n",
    "download_bars = [\n",
    "    widgets.FloatSlider(step=0.01, disabled=True, layout=layout, style=style)\n",
    "    for _ in downloads\n",
    "]\n",
    "display(*download_bars)\n",
    "\n",
    "# === Download Loop\n",
    "while downloads:\n",
    "    next_shift = 0\n",
    "    for index, download in enumerate(downloads[:]):\n",
    "        bar = download_bars[index + next_shift]\n",
    "        if not download.is_seed():\n",
    "            s = download.status()\n",
    "            eta = (\n",
    "                (s.total_wanted - s.total_done) / s.download_rate\n",
    "                if s.download_rate > 0\n",
    "                else 0\n",
    "            )\n",
    "            eta_str = f\"{eta/60:.1f} min\" if eta > 0 else \"∞\"\n",
    "\n",
    "            bar.description = f\"{download.name()} | {s.download_rate/1000:.1f} kB/s | {s.progress*100:.1f}% | ETA: {eta_str} | {state_str[s.state]}\"\n",
    "            bar.value = s.progress * 100\n",
    "        else:\n",
    "            next_shift -= 1\n",
    "            ses.remove_torrent(download)\n",
    "            downloads.remove(download)\n",
    "            bar.close()\n",
    "            download_bars.remove(bar)\n",
    "            print(f\"✅ {download.name()} complete!\")\n",
    "\n",
    "    time.sleep(1)"
   ]
  },
  {
   "cell_type": "code",
   "execution_count": null,
   "id": "f5ccea75",
   "metadata": {
    "vscode": {
     "languageId": "plaintext"
    }
   },
   "outputs": [],
   "source": [
    "test 2"
   ]
  },
  {
   "cell_type": "code",
   "execution_count": null,
   "id": "f3bcb423",
   "metadata": {
    "vscode": {
     "languageId": "plaintext"
    }
   },
   "outputs": [],
   "source": [
    "import ipywidgets as widgets\n",
    "from IPython.display import display, clear_output\n",
    "import libtorrent as lt\n",
    "import requests\n",
    "import os"
   ]
  },
  {
   "cell_type": "code",
   "execution_count": null,
   "id": "c86c4e0f",
   "metadata": {
    "vscode": {
     "languageId": "plaintext"
    }
   },
   "outputs": [],
   "source": [
    "\n",
    "\n",
    "save_path_root = \"/content/drive/My Drive/Torrent\"\n",
    "os.makedirs(save_path_root, exist_ok=True)\n",
    "\n",
    "# Create widgets\n",
    "mode_selector = widgets.ToggleButtons(\n",
    "    options=[\"Paste Magnet/Torrent Link\", \"Upload .torrent File\"],\n",
    "    description=\"Select Input Method:\",\n",
    "    disabled=False,\n",
    "    button_style=\"\",  # 'success', 'info', 'warning', 'danger' or ''\n",
    ")\n",
    "\n",
    "link_input = widgets.Text(\n",
    "    description=\"Link:\",\n",
    "    placeholder=\"Paste magnet or .torrent URL here\",\n",
    "    layout=widgets.Layout(width=\"70%\"),\n",
    ")\n",
    "\n",
    "file_upload = widgets.FileUpload(\n",
    "    accept=\".torrent\",\n",
    "    multiple=False,\n",
    ")\n",
    "\n",
    "start_button = widgets.Button(description=\"Start Download\")\n",
    "\n",
    "output = widgets.Output()\n",
    "\n",
    "# Container for link or file input\n",
    "input_box = widgets.VBox()\n",
    "\n",
    "def on_mode_change(change):\n",
    "    with output:\n",
    "        clear_output()\n",
    "    if change['new'] == \"Paste Magnet/Torrent Link\":\n",
    "        input_box.children = [link_input, start_button]\n",
    "    else:\n",
    "        input_box.children = [file_upload, start_button]\n",
    "\n",
    "mode_selector.observe(on_mode_change, names='value')\n",
    "\n",
    "def on_start_clicked(b):\n",
    "    with output:\n",
    "        clear_output()\n",
    "        print(\"Starting download...\")\n",
    "        downloads = []\n",
    "        ses = lt.session()\n",
    "        ses.listen_on(6881, 6891)\n",
    "        ses.start_dht()\n",
    "        ses.start_lsd()\n",
    "        ses.start_upnp()\n",
    "        ses.start_natpmp()\n",
    "        \n",
    "        if mode_selector.value == \"Paste Magnet/Torrent Link\":\n",
    "            link = link_input.value.strip()\n",
    "            if not link:\n",
    "                print(\"❌ Please enter a magnet or torrent link.\")\n",
    "                return\n",
    "\n",
    "            if link.endswith(\".torrent\") or \"torrent/download\" in link:\n",
    "                print(\"🔗 Detected .torrent file link, downloading...\")\n",
    "                r = requests.get(link)\n",
    "                torrent_file_path = \"/content/temp.torrent\"\n",
    "                with open(torrent_file_path, \"wb\") as f:\n",
    "                    f.write(r.content)\n",
    "                ti = lt.torrent_info(torrent_file_path)\n",
    "                save_path = save_path_root\n",
    "                params = {\"save_path\": save_path, \"ti\": ti}\n",
    "                downloads.append(ses.add_torrent(params))\n",
    "            else:\n",
    "                print(\"🧲 Detected magnet link...\")\n",
    "                save_path = save_path_root\n",
    "                params = {\"save_path\": save_path}\n",
    "                downloads.append(lt.add_magnet_uri(ses, link, params))\n",
    "\n",
    "        else:  # Upload .torrent file mode\n",
    "            if len(file_upload.value) == 0:\n",
    "                print(\"❌ Please upload a .torrent file first.\")\n",
    "                return\n",
    "            for uploaded_filename in file_upload.value:\n",
    "                content = file_upload.value[uploaded_filename]['content']\n",
    "                torrent_file_path = f\"/content/{uploaded_filename}\"\n",
    "                with open(torrent_file_path, \"wb\") as f:\n",
    "                    f.write(content)\n",
    "                ti = lt.torrent_info(torrent_file_path)\n",
    "                save_path = save_path_root\n",
    "                params = {\"save_path\": save_path, \"ti\": ti}\n",
    "                downloads.append(ses.add_torrent(params))\n",
    "        \n",
    "        # Progress bar setup (simplified for demo)\n",
    "        import time\n",
    "        import ipywidgets as widgets\n",
    "        state_str = [\n",
    "            \"queued\",\n",
    "            \"checking\",\n",
    "            \"downloading metadata\",\n",
    "            \"downloading\",\n",
    "            \"finished\",\n",
    "            \"seeding\",\n",
    "            \"allocating\",\n",
    "            \"checking fastresume\",\n",
    "        ]\n",
    "\n",
    "        #bars = [widgets.FloatProgress(min=0, max=100) for _ in downloads]\n",
    "        bars = [widgets.FloatSlider(min=0, max=100, step=0.01, disabled=True, layout=widgets.Layout(width='70%')) for _ in downloads]\n",
    "\n",
    "        display(*bars)\n",
    "        \n",
    "        while downloads:\n",
    "            next_shift = 0\n",
    "            for i, d in enumerate(downloads[:]):\n",
    "                bar = bars[i + next_shift]\n",
    "                if not d.is_seed():\n",
    "                    s = d.status()\n",
    "                    eta = ((s.total_wanted - s.total_done) / s.download_rate) if s.download_rate > 0 else 0\n",
    "                    eta_str = f\"{eta/60:.1f} min\" if eta > 0 else \"∞\"\n",
    "                    bar.description = f\"{d.name()} | {s.download_rate/1000:.1f} kB/s | {s.progress*100:.1f}% | ETA: {eta_str} | {state_str[s.state]}\"\n",
    "                    bar.value = s.progress * 100\n",
    "                else:\n",
    "                    next_shift -= 1\n",
    "                    ses.remove_torrent(d)\n",
    "                    downloads.remove(d)\n",
    "                    bar.close()\n",
    "                    bars.remove(bar)\n",
    "                    print(f\"✅ {d.name()} complete!\")\n",
    "            time.sleep(1)\n",
    "\n",
    "\n",
    "# Initialize with link input visible\n",
    "input_box.children = [link_input, start_button]\n",
    "\n",
    "display(mode_selector)\n",
    "display(input_box)\n",
    "display(output)\n",
    "\n",
    "start_button.on_click(on_start_clicked)\n"
   ]
  },
  {
   "cell_type": "markdown",
   "id": "496be91f",
   "metadata": {},
   "source": [
    "#### Auto Unmount Drive\n",
    "- After finishing, you can safely unmount Google Drive to avoid sync issues:"
   ]
  },
  {
   "cell_type": "code",
   "execution_count": null,
   "id": "f412dd39",
   "metadata": {
    "vscode": {
     "languageId": "plaintext"
    }
   },
   "outputs": [],
   "source": [
    "drive.flush_and_unmount()\n",
    "print(\"✅ Google Drive unmounted!\")"
   ]
  }
 ],
 "metadata": {
  "language_info": {
   "name": "python"
  }
 },
 "nbformat": 4,
 "nbformat_minor": 5
}
